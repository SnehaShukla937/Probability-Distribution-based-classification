{
  "nbformat": 4,
  "nbformat_minor": 0,
  "metadata": {
    "colab": {
      "name": "2101101006_A2_Q1.ipynb",
      "provenance": []
    },
    "kernelspec": {
      "name": "python3",
      "display_name": "Python 3"
    },
    "language_info": {
      "name": "python"
    }
  },
  "cells": [
    {
      "cell_type": "markdown",
      "metadata": {
        "id": "zfDl09LIh2Xx"
      },
      "source": [
        "# **Pattern Recognition Lab (Assignment2_Q1)**\n",
        "\n",
        " Roll No. 2101101006\n",
        "\n",
        " Name: Sneha Shukla"
      ]
    },
    {
      "cell_type": "code",
      "metadata": {
        "id": "myHdbGx8KkEu"
      },
      "source": [
        "import os\n",
        "os.chdir(\"/content/drive/MyDrive/PR_Assignment/\")"
      ],
      "execution_count": 1,
      "outputs": []
    },
    {
      "cell_type": "code",
      "metadata": {
        "id": "lLP82t79Lan-"
      },
      "source": [
        "# IMPORT ALL REQUIRED PACKAGES \n",
        "\n",
        "import pandas as pd\n",
        "import numpy as np\n",
        "import matplotlib.pyplot as plt"
      ],
      "execution_count": 2,
      "outputs": []
    },
    {
      "cell_type": "code",
      "metadata": {
        "id": "qvkHbviELRft"
      },
      "source": [
        "# LOAD DATASET\n",
        "kerala_data = pd.read_csv(\"kerala.csv\") # read csv file\n",
        "print(\"data shape:\",kerala_data.shape) # get shape of csv file (row, column)\n",
        "\n",
        "# GET TRAIN AND TEST DATA\n",
        "kdata_train = kerala_data.iloc[0:100,14:16] # train data\n",
        "kdata_test = kerala_data.iloc[100:,14:16] # test data\n",
        "print(\"train data:\\n\",kdata_train)\n",
        "print(\"test data:\\n\",kdata_test)"
      ],
      "execution_count": null,
      "outputs": []
    },
    {
      "cell_type": "code",
      "metadata": {
        "id": "NkOKYPa1NpSz"
      },
      "source": [
        "# CALCULATE PRIOR VALUES \n",
        "\n",
        "# prior =  condition based count for each class / total count\n",
        "\n",
        "prior_flood_yes = len(kdata_train['FLOODS'] == 'YES')/len(kdata_train) # prior when there is flood \n",
        "prior_flood_no = len(kdata_train['FLOODS'] == 'NO')/len(kdata_train) # prior when there is no flood"
      ],
      "execution_count": 4,
      "outputs": []
    },
    {
      "cell_type": "code",
      "metadata": {
        "id": "AXUXiMZORhzr"
      },
      "source": [
        "# FUNCTION TO CALCULATE LIKELIHOOD FOR 2 CLASSES\n",
        "\n",
        "def likelihood(bin_size,kdata_train):\n",
        "  # exttract data based on 2 classes (flood = YES , flood = NO)\n",
        "  kdata_train_Yflood = kdata_train.loc[kdata_train[\"FLOODS\"] == 'YES']\n",
        "  kdata_train_Nflood = kdata_train.loc[kdata_train[\"FLOODS\"] == 'NO']\n",
        "\n",
        "  # calculate histogram for class 1 --> FLOODS = YES\n",
        "  floodY = {} # a dictionary to store lower limit as key and histogram (count) as value for class 1\n",
        "  count1 = int((max(kdata_train_Yflood[' ANNUAL RAINFALL'])  - min(kdata_train_Yflood[' ANNUAL RAINFALL']) )// bin_size) # total bin count for class 1\n",
        "  hist1_LL = np.floor(min(kdata_train_Yflood[' ANNUAL RAINFALL']) ) # initial lower limit\n",
        "  hist1_UL = hist1_LL + bin_size # initial upper limit\n",
        "  for i in range(int(count1)): # loop over all total bin count for class 1\n",
        "    hist1 = len(kdata_train_Yflood.loc[(kdata_train_Yflood[' ANNUAL RAINFALL'] >= hist1_LL) & (kdata_train_Yflood[' ANNUAL RAINFALL'] < hist1_UL)]) / len(kdata_train_Yflood)\n",
        "    floodY[hist1_LL] = hist1 # update dictionary \n",
        "    hist1_LL = hist1_UL + 1  # update lower limit\n",
        "    hist1_UL = hist1_LL + bin_size # update upper limit\n",
        "\n",
        "  # calculate histogram for class 2 --> FLOODS = NO\n",
        "  floodN = {} # a dictionary to store lower limit as key and histogram (count) as value for class 2\n",
        "  count2 = int((max(kdata_train_Nflood[' ANNUAL RAINFALL'])  - min(kdata_train_Nflood[' ANNUAL RAINFALL']) )// bin_size) # total bin count for class 2\n",
        "  hist2_LL = np.floor(min(kdata_train_Nflood[' ANNUAL RAINFALL']) ) # initial lower limit\n",
        "  hist2_UL = hist2_LL + bin_size # initial upper limit\n",
        "  for i in range(int(count2)): # loop over all total bin count for class 2\n",
        "    hist2 = len(kdata_train_Nflood.loc[(kdata_train_Nflood[' ANNUAL RAINFALL'] >= hist2_LL) & (kdata_train_Nflood[' ANNUAL RAINFALL'] < hist2_UL)]) / len(kdata_train_Nflood)\n",
        "    floodN[hist2_LL] = hist2 # update dictionary \n",
        "    hist2_LL = hist2_UL + 1 # update lower limit\n",
        "    hist2_UL = hist2_LL + bin_size # update upper limit\n",
        "\n",
        "  return floodY, floodN\n",
        "\n",
        "# function to get histogram value for perticular test data x\n",
        "def getLikelihoodValue(dist,x, bin_size): \n",
        "  for v in dist.keys():\n",
        "    if x >=  v and x < v+bin_size:\n",
        "      return dist[v]\n",
        "  return 0.0"
      ],
      "execution_count": 5,
      "outputs": []
    },
    {
      "cell_type": "code",
      "metadata": {
        "colab": {
          "base_uri": "https://localhost:8080/"
        },
        "id": "pBxBTM4MUq8m",
        "outputId": "f6a18335-ea90-4abf-8c81-d19aeec4e65d"
      },
      "source": [
        "bin  = [50, 100, 150, 200, 250] # all bin sizes\n",
        "for bin_size in bin: # loop for each bin size\n",
        "  floodY, floodN = likelihood(bin_size,kdata_train) # get count (histogram) value for each class\n",
        "  print(\"\\n\")\n",
        "  print(\"----- bin size:\",bin_size,\"-------\")\n",
        "  print(\"------------------\")\n",
        "  print('Prediction:','Actual')\n",
        "  print(\"------------------\")\n",
        "  c = 0 # class 1 count (pred == actual)\n",
        "  d = 0 # class 2 count (pred == actual)\n",
        "  for i,j in kdata_test.iterrows():\n",
        "    a = j[' ANNUAL RAINFALL']\n",
        "    b = j['FLOODS']\n",
        "    # calculate posterior probability for each class\n",
        "    post_prob_floodY = getLikelihoodValue(floodY, a, bin_size)  * prior_flood_yes # for class 1 --> FLOODS = YES\n",
        "    post_prob_floodN = getLikelihoodValue(floodN, a, bin_size) * prior_flood_no # for class 2 --> FLOODS = NO\n",
        "    # check & assign class for test data\n",
        "    if post_prob_floodY >= post_prob_floodN:\n",
        "      print(\"YES:\",b)\n",
        "      if b == 'YES':\n",
        "        c+=1 # increment  count\n",
        "    else:\n",
        "      print(\"NO:\",b)\n",
        "      if b == 'NO':\n",
        "        d+=1 # increment  count\n",
        "  print(\"\\nTotal number of success cases:{0}\\nTotal number of failure cases:{1}\".format(c+d,len(kdata_test)-(c+d)))"
      ],
      "execution_count": 6,
      "outputs": [
        {
          "output_type": "stream",
          "name": "stdout",
          "text": [
            "\n",
            "\n",
            "----- bin size: 50 -------\n",
            "------------------\n",
            "Prediction: Actual\n",
            "------------------\n",
            "YES: NO\n",
            "NO: NO\n",
            "NO: NO\n",
            "YES: NO\n",
            "YES: YES\n",
            "YES: YES\n",
            "YES: YES\n",
            "NO: NO\n",
            "NO: NO\n",
            "YES: YES\n",
            "YES: YES\n",
            "NO: NO\n",
            "YES: YES\n",
            "YES: YES\n",
            "NO: NO\n",
            "YES: NO\n",
            "NO: NO\n",
            "YES: YES\n",
            "\n",
            "Total number of success cases:15\n",
            "Total number of failure cases:3\n",
            "\n",
            "\n",
            "----- bin size: 100 -------\n",
            "------------------\n",
            "Prediction: Actual\n",
            "------------------\n",
            "YES: NO\n",
            "NO: NO\n",
            "NO: NO\n",
            "YES: NO\n",
            "YES: YES\n",
            "YES: YES\n",
            "YES: YES\n",
            "NO: NO\n",
            "NO: NO\n",
            "YES: YES\n",
            "YES: YES\n",
            "NO: NO\n",
            "YES: YES\n",
            "YES: YES\n",
            "NO: NO\n",
            "NO: NO\n",
            "NO: NO\n",
            "YES: YES\n",
            "\n",
            "Total number of success cases:16\n",
            "Total number of failure cases:2\n",
            "\n",
            "\n",
            "----- bin size: 150 -------\n",
            "------------------\n",
            "Prediction: Actual\n",
            "------------------\n",
            "YES: NO\n",
            "NO: NO\n",
            "NO: NO\n",
            "YES: NO\n",
            "YES: YES\n",
            "YES: YES\n",
            "YES: YES\n",
            "NO: NO\n",
            "NO: NO\n",
            "YES: YES\n",
            "YES: YES\n",
            "NO: NO\n",
            "YES: YES\n",
            "YES: YES\n",
            "NO: NO\n",
            "NO: NO\n",
            "NO: NO\n",
            "YES: YES\n",
            "\n",
            "Total number of success cases:16\n",
            "Total number of failure cases:2\n",
            "\n",
            "\n",
            "----- bin size: 200 -------\n",
            "------------------\n",
            "Prediction: Actual\n",
            "------------------\n",
            "YES: NO\n",
            "NO: NO\n",
            "NO: NO\n",
            "YES: NO\n",
            "YES: YES\n",
            "YES: YES\n",
            "YES: YES\n",
            "NO: NO\n",
            "NO: NO\n",
            "YES: YES\n",
            "YES: YES\n",
            "NO: NO\n",
            "YES: YES\n",
            "YES: YES\n",
            "NO: NO\n",
            "NO: NO\n",
            "NO: NO\n",
            "YES: YES\n",
            "\n",
            "Total number of success cases:16\n",
            "Total number of failure cases:2\n",
            "\n",
            "\n",
            "----- bin size: 250 -------\n",
            "------------------\n",
            "Prediction: Actual\n",
            "------------------\n",
            "YES: NO\n",
            "NO: NO\n",
            "NO: NO\n",
            "YES: NO\n",
            "YES: YES\n",
            "YES: YES\n",
            "YES: YES\n",
            "NO: NO\n",
            "NO: NO\n",
            "YES: YES\n",
            "YES: YES\n",
            "NO: NO\n",
            "YES: YES\n",
            "YES: YES\n",
            "NO: NO\n",
            "NO: NO\n",
            "NO: NO\n",
            "YES: YES\n",
            "\n",
            "Total number of success cases:16\n",
            "Total number of failure cases:2\n"
          ]
        }
      ]
    },
    {
      "cell_type": "code",
      "metadata": {
        "id": "7eRxsECwrlQ-"
      },
      "source": [
        ""
      ],
      "execution_count": 6,
      "outputs": []
    }
  ]
}